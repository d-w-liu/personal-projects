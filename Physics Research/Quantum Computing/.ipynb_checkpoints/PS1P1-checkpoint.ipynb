{
 "cells": [
  {
   "cell_type": "markdown",
   "id": "4468d5a5-7b01-4678-93b8-e0a29cddb266",
   "metadata": {},
   "source": [
    "This notebook is for problem 1 of Problem Set 1, PHYS 578, Spring 2023 with Professor Martin Savage."
   ]
  },
  {
   "cell_type": "markdown",
   "id": "1a8e9522-f99a-407b-9062-e8cc757114ae",
   "metadata": {},
   "source": [
    "These are the initial libraries we need. I have chosen to use Google's cirq by means of a coin flip."
   ]
  },
  {
   "cell_type": "code",
   "execution_count": 1,
   "id": "48ed4404-dea3-44a7-b3d8-04079e0afd61",
   "metadata": {},
   "outputs": [],
   "source": [
    "import cirq\n",
    "import math\n",
    "import numpy as np\n",
    "import matplotlib.pyplot as plt"
   ]
  },
  {
   "cell_type": "markdown",
   "id": "40922b0f-2d07-41a9-9522-121fd5dcd9dc",
   "metadata": {},
   "source": [
    "Here, we create a circuit in order to simulate the time evolution of a single plaquette in SU(2) lattice gauge theory with truncation at j=1/2.\n",
    "\n",
    "I've already enforced that c_e = c_b = 1 here. I could have put them into the expressions and allowed them to vary, but the expressions are much longer and nastier that way, and I don't need them for what the problem is asking."
   ]
  },
  {
   "cell_type": "code",
   "execution_count": 25,
   "id": "3426b352-e93c-4826-a0c1-af951ebfb8f5",
   "metadata": {},
   "outputs": [],
   "source": [
    "#Initialize our qubit\n",
    "qubit = cirq.LineQubit(1)\n",
    "\n",
    "#This function creates a circuit that time evolves an initial state to some time t\n",
    "def single_qubit_circuit(t):\n",
    "    alpha = 1/2 * math.acos(math.cos(t/math.sqrt(2))/(1-math.sin(t/math.sqrt(2))**2/2))\n",
    "    beta = math.asin(math.sin(t/math.sqrt(2))/math.sqrt(2))\n",
    "    circuit = cirq.Circuit()\n",
    "    circuit.append(cirq.rz(alpha)(qubit))\n",
    "    circuit.append(cirq.H(qubit))\n",
    "    circuit.append(cirq.rz(beta)(qubit))\n",
    "    circuit.append(cirq.H(qubit))\n",
    "    circuit.append(cirq.rz(alpha)(qubit))\n",
    "    \n",
    "    return circuit\n",
    "\n",
    "#This function is just the electric component of the Hamiltonian\n",
    "def electric_hamiltonian():\n",
    "    hamiltonian = (cirq.PauliString(cirq.I(qubit)) - cirq.PauliString(cirq.Z(qubit)))/2\n",
    "    \n",
    "    return hamiltonian\n",
    "\n",
    "#This function returns the expectation value at some time t\n",
    "def electric_expectation_value(t):\n",
    "    circuit = single_qubit_circuit(t)\n",
    "    energy = electric_hamiltonian().expectation_from_state_vector(circuit.final_state_vector(),qubit_map={qubit:0})\n",
    "    \n",
    "    return energy"
   ]
  },
  {
   "cell_type": "markdown",
   "id": "25fc6ee8-289a-4dc6-8b97-3ecd0ed05741",
   "metadata": {},
   "source": [
    "Now we're asked to plot the expectation value of the energies for t=[0,2], starting from |0>."
   ]
  },
  {
   "cell_type": "code",
   "execution_count": 26,
   "id": "c66634e2-9c30-49e1-a1c9-90f3bd605b64",
   "metadata": {},
   "outputs": [
    {
     "name": "stderr",
     "output_type": "stream",
     "text": [
      "C:\\Users\\dliu1\\miniconda3\\lib\\site-packages\\matplotlib\\cbook\\__init__.py:1335: ComplexWarning: Casting complex values to real discards the imaginary part\n",
      "  return np.asarray(x, float)\n"
     ]
    },
    {
     "data": {
      "image/png": "[encoded data removed]",
      "text/plain": [
       "<Figure size 640x480 with 1 Axes>"
      ]
     },
     "metadata": {},
     "output_type": "display_data"
    }
   ],
   "source": [
    "times = np.linspace(0,2,1000)\n",
    "energies = list(map(electric_expectation_value,times))\n",
    "\n",
    "plt.plot(times,energies)\n",
    "\n",
    "plt.title(\"Electric Energies\")\n",
    "plt.xlabel(\"t\")\n",
    "plt.ylabel(\"<E>\")\n",
    "\n",
    "plt.show()"
   ]
  },
  {
   "cell_type": "markdown",
   "id": "fee80b37-d010-464b-8783-0f3685f421bc",
   "metadata": {},
   "source": [
    "Question 5 asks us to determine how many measurements we need to obtain a 0.5% precision determination of p(|0>) at t = 1.3. In other words, how many measurements do we need to calculate the probability that we're still in |0> at t = 1.3 to within +/- 0.5%? Since we're counting discrete, independent measurements, it seems appropriate to assume Poisson statistics here."
   ]
  },
  {
   "cell_type": "code",
   "execution_count": 85,
   "id": "e4d396b7-bc1b-4751-99a3-16120b798a5b",
   "metadata": {},
   "outputs": [
    {
     "name": "stdout",
     "output_type": "stream",
     "text": [
      "0.91408\n"
     ]
    }
   ],
   "source": [
    "def timeEvolvedResult():\n",
    "    circuit = single_qubit_circuit(t=1.3)\n",
    "    circuit.append(cirq.measure(qubit, key='finalState'))\n",
    "    \n",
    "    return circuit\n",
    "\n",
    "#this function measures the probabilities with n trials\n",
    "def measure_probability(n):\n",
    "    simulator = cirq.Simulator()\n",
    "\n",
    "    result = simulator.run(timeEvolvedResult(), repetitions=n)\n",
    "    measurement=dict(result.histogram(key='finalState'))[0]/n\n",
    "    \n",
    "    return measurement"
   ]
  },
  {
   "cell_type": "markdown",
   "id": "7d9d5c6c-0bb8-494e-b348-811d3c32ca46",
   "metadata": {},
   "source": [
    "We want enough measurements to get our uncertainty down to 0.5%. Poisson error when counting is given by the square root of the count. Divide this by the number of trials and we'll get an error."
   ]
  },
  {
   "cell_type": "code",
   "execution_count": 97,
   "id": "7507cab4-d68d-4c83-9b57-9a7d5a2ac5ea",
   "metadata": {},
   "outputs": [
    {
     "name": "stdout",
     "output_type": "stream",
     "text": [
      "Measured Probability = 0.925\n",
      "Error = 0.05068968775248516\n"
     ]
    }
   ],
   "source": [
    "prob = measure_probability(360)\n",
    "\n",
    "print(\"Measured Probability = \" + str(prob))\n",
    "print(\"Error = \" + str(np.sqrt(prob*360)/360))"
   ]
  },
  {
   "cell_type": "markdown",
   "id": "c10c142d-e8d0-4b2d-99a6-4a9f99527699",
   "metadata": {},
   "source": [
    "So somewhere between 360 and 400 trials should get us to within 0.5% error. Now let's tackle the second problem."
   ]
  }
 ],
 "metadata": {
  "kernelspec": {
   "display_name": "Python 3 (ipykernel)",
   "language": "python",
   "name": "python3"
  },
  "language_info": {
   "codemirror_mode": {
    "name": "ipython",
    "version": 3
   },
   "file_extension": ".py",
   "mimetype": "text/x-python",
   "name": "python",
   "nbconvert_exporter": "python",
   "pygments_lexer": "ipython3",
   "version": "3.9.12"
  }
 },
 "nbformat": 4,
 "nbformat_minor": 5
}
