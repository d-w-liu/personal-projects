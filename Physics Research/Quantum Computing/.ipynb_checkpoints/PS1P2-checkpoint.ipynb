{
 "cells": [
  {
   "cell_type": "markdown",
   "id": "3cd4774a-01de-4022-9b46-5967f3e07de3",
   "metadata": {},
   "source": [
    "This notebook is for problem 2 of Problem Set 1, PHYS 578, Spring 2023 with Professor Martin Savage."
   ]
  },
  {
   "cell_type": "code",
   "execution_count": 2,
   "id": "a75da923-6cca-424c-989b-d86de99b545b",
   "metadata": {},
   "outputs": [],
   "source": [
    "import cirq\n",
    "import math"
   ]
  },
  {
   "cell_type": "code",
   "execution_count": 23,
   "id": "0ce89740-8eda-4e32-997b-d32948ca15ee",
   "metadata": {},
   "outputs": [
    {
     "name": "stdout",
     "output_type": "stream",
     "text": [
      "[0.68041382+0.j 0.54433105+0.j 0.40824829+0.j 0.27216553+0.j]\n",
      "0.6804138174397717\n",
      "0.5443310539518174\n",
      "0.408248290463863\n",
      "0.2721655269759087\n"
     ]
    }
   ],
   "source": [
    "theta00 = 2*math.atan(math.sqrt(13/41))\n",
    "theta10 = 2*math.atan(4/5)\n",
    "theta11 = 2*math.atan(2/3)\n",
    "\n",
    "def two_qubit_circuit(theta00,theta10,theta11):\n",
    "    qubit = cirq.LineQubit.range(2)\n",
    "    circuit = cirq.Circuit()\n",
    "\n",
    "    circuit.append(cirq.ry(theta00)(qubit[0]))\n",
    "    circuit.append(cirq.ry(theta11/2)(qubit[1]))\n",
    "    circuit.append(cirq.CNOT(qubit[0], qubit[1]))\n",
    "    circuit.append(cirq.ry(-theta11/2)(qubit[1]))\n",
    "    circuit.append(cirq.CNOT(qubit[0], qubit[1]))\n",
    "    circuit.append(cirq.X(qubit[0]))\n",
    "    circuit.append(cirq.ry(theta10/2)(qubit[1]))\n",
    "    circuit.append(cirq.CNOT(qubit[0], qubit[1]))\n",
    "    circuit.append(cirq.ry(-theta10/2)(qubit[1]))\n",
    "    circuit.append(cirq.CNOT(qubit[0], qubit[1]))\n",
    "    circuit.append(cirq.X(qubit[0]))\n",
    "    \n",
    "    final_state = circuit.final_state_vector()\n",
    "    \n",
    "    return final_state\n",
    "\n",
    "print(two_qubit_circuit(theta00,theta10,theta11))\n",
    "\n",
    "#check coefficients\n",
    "\n",
    "print(5/math.sqrt(54))\n",
    "print(4/math.sqrt(54))\n",
    "print(3/math.sqrt(54))\n",
    "print(2/math.sqrt(54))"
   ]
  },
  {
   "cell_type": "markdown",
   "id": "1cd30d78-0ec0-4e28-be79-4b1aea624ea5",
   "metadata": {},
   "source": [
    "Oddly, this only gives you the correct state vector if you rotate about theta 11 first, and then do theta 10 as an anti-controlled rotation. If you do it in the order of theta 10 and theta 11 as an anti-controlled rotation, the final vector deviates significantly:"
   ]
  },
  {
   "cell_type": "code",
   "execution_count": 24,
   "id": "897fad1f-ce17-419f-90ea-224c3e6b8aa2",
   "metadata": {},
   "outputs": [
    {
     "name": "stdout",
     "output_type": "stream",
     "text": [
      "[0.72501105+0.j 0.4833407 +0.j 0.38313592+0.j 0.30650874+0.j]\n"
     ]
    }
   ],
   "source": [
    "print(two_qubit_circuit(theta00,theta11,theta10))"
   ]
  },
  {
   "cell_type": "code",
   "execution_count": null,
   "id": "936645b5-d478-42b5-9bbc-65706ffe5493",
   "metadata": {},
   "outputs": [],
   "source": []
  }
 ],
 "metadata": {
  "kernelspec": {
   "display_name": "Python 3 (ipykernel)",
   "language": "python",
   "name": "python3"
  },
  "language_info": {
   "codemirror_mode": {
    "name": "ipython",
    "version": 3
   },
   "file_extension": ".py",
   "mimetype": "text/x-python",
   "name": "python",
   "nbconvert_exporter": "python",
   "pygments_lexer": "ipython3",
   "version": "3.9.12"
  }
 },
 "nbformat": 4,
 "nbformat_minor": 5
}
