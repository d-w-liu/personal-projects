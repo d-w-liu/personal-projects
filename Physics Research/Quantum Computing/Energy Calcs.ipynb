{
 "cells": [
  {
   "cell_type": "markdown",
   "id": "c8c43ecc-1c02-41cd-b091-1caa4b02f129",
   "metadata": {},
   "source": [
    "Notebook for Phys 578, Problem Set 4."
   ]
  },
  {
   "cell_type": "code",
   "execution_count": 1,
   "id": "125c6c2c-e5d9-41f2-a175-6fa18e0bf631",
   "metadata": {},
   "outputs": [],
   "source": [
    "import cirq\n",
    "import math\n",
    "import numpy as np\n",
    "import matplotlib\n",
    "import matplotlib.pyplot as plt\n",
    "import scipy"
   ]
  },
  {
   "cell_type": "code",
   "execution_count": 87,
   "id": "7108a2b7-57d1-46fa-bbb1-5daa5ea90a68",
   "metadata": {},
   "outputs": [],
   "source": [
    "g=9\n",
    "a=1\n",
    "m=1\n",
    "nfs=8"
   ]
  },
  {
   "cell_type": "code",
   "execution_count": 69,
   "id": "d238f766-dfe1-42e6-967c-724df5b9a076",
   "metadata": {},
   "outputs": [],
   "source": [
    "def initialize_circuit(site, circuit):\n",
    "    circuit.append(cirq.X(site[0]))\n",
    "    circuit.append(cirq.I(site[1]))\n",
    "    circuit.append(cirq.X(site[2]))\n",
    "    circuit.append(cirq.I(site[3]))\n",
    "    circuit.append(cirq.X(site[4]))\n",
    "    circuit.append(cirq.I(site[5]))\n",
    "    circuit.append(cirq.X(site[6]))\n",
    "    circuit.append(cirq.I(site[7]))"
   ]
  },
  {
   "cell_type": "code",
   "execution_count": 82,
   "id": "8cc40618-0255-47f0-818a-03d94c94c9aa",
   "metadata": {},
   "outputs": [],
   "source": [
    "def kineticTerm(site, circuit, t):\n",
    "    for n in range (nfs-1):\n",
    "        circuit.append(cirq.CNOT(site[n], site[n+1]))\n",
    "        circuit.append(cirq.Rx(rads=-t /(2 * a))(site[n]))\n",
    "        circuit.append(cirq.H(site[n]))\n",
    "        circuit.append(cirq.CNOT(site[n],site[n+1]))\n",
    "        circuit.append(cirq.S(site[n]))\n",
    "        circuit.append(cirq.H(site[n]))\n",
    "        circuit.append(cirq.Rz(rads=t /(2 * a))(site[n+1]))\n",
    "        circuit.append(cirq.CNOT(site[n],site[n+1]))\n",
    "        circuit.append(cirq.Rx(rads=-math.pi/2)(site[n]))\n",
    "        circuit.append(cirq.Rx(rads=math.pi/2)(site[n+1]))\n",
    "        \n",
    "def massTerm(site, circuit, t):\n",
    "    for n in range (nfs):\n",
    "        circuit.append(cirq.Rz(rads=(-1)**n * m * t)(site[n]))\n",
    "        \n",
    "def electricTerm(site, circuit, t):\n",
    "    for n in range (nfs-1):\n",
    "        circuit.append(cirq.Rz(rads=(-1)**n * t * a * g**2 / 2 * (nfs - 1 - n))(site[n]))\n",
    "        \n",
    "    for n in range (nfs-2):\n",
    "        for m in range (n+1, nfs-1):\n",
    "            circuit.append(cirq.Rz(rads = (-1)**m * t * a * g**2 / 2 * (nfs - 1 - m))(site[n]))\n",
    "            circuit.append(cirq.Rz(rads = (-1)**n * t * a * g**2 / 2 * (nfs - 1 - m))(site[m]))\n",
    "            circuit.append(cirq.CNOT(site[n],site[m]))\n",
    "            circuit.append(cirq.Rz(rads = t * a * g**2 / 2 * (nfs - 1 - m))(site[m]))\n",
    "            circuit.append(cirq.CNOT(site[n],site[m]))"
   ]
  },
  {
   "cell_type": "code",
   "execution_count": 81,
   "id": "ecb17f34-9693-4f98-8a1d-db31bf4bb784",
   "metadata": {},
   "outputs": [],
   "source": [
    "def create_cirquit(time,steps):\n",
    "    circuit = cirq.Circuit()\n",
    "    site = cirq.LineQubit.range(nfs)\n",
    "    t = time/steps\n",
    "    initialize_circuit(site,circuit)\n",
    "    for i in range(steps):\n",
    "        kineticTerm(site, circuit, t)\n",
    "        massTerm(site, circuit, t)\n",
    "        electricTerm(site, circuit, t)\n",
    "    return circuit, site\n",
    "\n",
    "def find_energy(site):\n",
    "    energy = 0\n",
    "    \n",
    "    for n in range(0, nfs-1):\n",
    "        energy += (-1)**n * a * g**2 / 4 * (nfs - 1 - n) * cirq.PauliString(cirq.Z(site[n]))\n",
    "        energy += a * g**2 / 4 * (nfs - 1 - n) * cirq.PauliString(cirq.I(site[n]))\n",
    "        \n",
    "    for n in range(nfs-2):\n",
    "        for m in range(n+1,nfs-1):\n",
    "            energy += a * g**2 / 4 * (nfs - 1 - m) * cirq.PauliString([cirq.Z(site[n]),cirq.Z(site[m])])\n",
    "            energy += (-1)**m * a * g**2 / 4 * (nfs - 1 - m) * cirq.PauliString(cirq.Z(site[n]))\n",
    "            energy += (-1)**n * a * g**2 / 4 * (nfs - 1 - m) * cirq.PauliString(cirq.Z(site[m]))\n",
    "            energy += (-1)**(n + m) * a * g**2 / 4 * (nfs - 1 - m) * cirq.PauliString([cirq.I(site[n]),cirq.I(site[m])])\n",
    "            \n",
    "    return energy"
   ]
  },
  {
   "cell_type": "code",
   "execution_count": 88,
   "id": "42d8bdc9-5338-4379-a8ab-10cf7b708dfe",
   "metadata": {},
   "outputs": [
    {
     "name": "stderr",
     "output_type": "stream",
     "text": [
      "C:\\Users\\dliu1\\miniconda3\\lib\\site-packages\\matplotlib\\cbook\\__init__.py:1335: ComplexWarning: Casting complex values to real discards the imaginary part\n",
      "  return np.asarray(x, float)\n"
     ]
    },
    {
     "data": {
      "image/png": "[encoded data removed]",
      "text/plain": [
       "<Figure size 640x480 with 1 Axes>"
      ]
     },
     "metadata": {},
     "output_type": "display_data"
    }
   ],
   "source": [
    "times = np.linspace(0,5,101)\n",
    "steps = 20\n",
    "energies = []\n",
    "for time in times:\n",
    "    circuit, site = create_cirquit(time, steps)\n",
    "    energies.append(find_energy(site).expectation_from_state_vector(circuit.final_state_vector(), qubit_map={site[n]:n for n in range(len(site))}))\n",
    "    \n",
    "plt.plot(times, energies)\n",
    "plt.title(\"<E>\")\n",
    "plt.xlabel(\"t\")\n",
    "plt.ylabel(\"<E>\")\n",
    "\n",
    "plt.show()"
   ]
  },
  {
   "cell_type": "code",
   "execution_count": null,
   "id": "5f3b50b4-57fc-4616-afd6-1b9079b7f1bd",
   "metadata": {},
   "outputs": [],
   "source": []
  }
 ],
 "metadata": {
  "kernelspec": {
   "display_name": "Python 3 (ipykernel)",
   "language": "python",
   "name": "python3"
  },
  "language_info": {
   "codemirror_mode": {
    "name": "ipython",
    "version": 3
   },
   "file_extension": ".py",
   "mimetype": "text/x-python",
   "name": "python",
   "nbconvert_exporter": "python",
   "pygments_lexer": "ipython3",
   "version": "3.9.12"
  }
 },
 "nbformat": 4,
 "nbformat_minor": 5
}
