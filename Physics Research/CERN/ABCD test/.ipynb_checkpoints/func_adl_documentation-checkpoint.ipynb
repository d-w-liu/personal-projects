{
 "cells": [
  {
   "cell_type": "markdown",
   "metadata": {},
   "source": [
    "# Documentation for func_adl\n",
    "\n",
    "func_adl is an SQL-like language used to construct hierarchical data queries for `servicex`. func_adl is written to work with both `servicex` service modes, and requires either `func_adl_xAOD` or `func_adl_uproot` for full functionality."
   ]
  },
  {
   "cell_type": "markdown",
   "metadata": {},
   "source": [
    "# Example of a func_adl query\n",
    "\n",
    "```\n",
    "    data = ServiceXDatasetSource(dataset) \\\n",
    "    .Select('lambda e: (e.Electrons(\"Electrons\"), e.Muons(\"Muons\"))') \\\n",
    "    .Select('lambda ls: (ls[0].Select(lambda e: e.pt()), ls[0].Select(lambda e: e.eta()), \\\n",
    "                         ls[0].Select(lambda e: e.phi()), ls[0].Select(lambda e: e.e()), \\\n",
    "                         ls[1].Select(lambda m: m.pt()), ls[1].Select(lambda m: m.eta()), \\\n",
    "                         ls[1].Select(lambda m: m.phi()), ls[1].Select(lambda m: m.e()))') \\\n",
    "    .AsAwkwardArray(('ElePt', 'EleEta', 'ElePhi', 'EleE', 'MuPt', 'MuEta', 'MuPhi', 'MuE')) \\\n",
    "    .value()\n",
    "```\n",
    "\n",
    "This is an example of a request submitted to ServiceX using func_adl_xAOD. The request functions by"
   ]
  }
 ],
 "metadata": {
  "kernelspec": {
   "display_name": "Python 3",
   "language": "python",
   "name": "python3"
  },
  "language_info": {
   "codemirror_mode": {
    "name": "ipython",
    "version": 3
   },
   "file_extension": ".py",
   "mimetype": "text/x-python",
   "name": "python",
   "nbconvert_exporter": "python",
   "pygments_lexer": "ipython3",
   "version": "3.7.7"
  }
 },
 "nbformat": 4,
 "nbformat_minor": 4
}
