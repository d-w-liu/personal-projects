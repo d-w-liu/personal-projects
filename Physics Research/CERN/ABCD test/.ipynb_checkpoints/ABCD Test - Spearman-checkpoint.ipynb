{
 "cells": [
  {
   "cell_type": "markdown",
   "metadata": {},
   "source": [
    "# Example of the ABCD method with arbitrary dataset distributions.\n",
    "\n",
    "This code block are the initialization and imports that are needed. Simulation parameters can be changed here as desired. Four correlations are coded between x and y.\n",
    "\n",
    "0 is uncorrelated, and causes x and y to be completely unrelated.\n",
    "\n",
    "1 is a simple linear function, y = x\n",
    "\n",
    "2 is a simple quadratic function, y = x^2 with a coefficient to control the height of the function based on the x-mean.\n",
    "\n",
    "3 is a simple exponential function, y = e^x with a coefficient to control the height of the function based on the x-mean.\n",
    "\n",
    "The chi squared parameter controls the strength of the correlation. At 1, the correlation is perfect. For weak correlations, this should be above 1,000. Don't set this to less than 1."
   ]
  },
  {
   "cell_type": "code",
   "execution_count": 201,
   "metadata": {},
   "outputs": [],
   "source": [
    "import numpy as np\n",
    "import random\n",
    "import matplotlib.pyplot as plot\n",
    "import math\n",
    "\n",
    "random.seed()\n",
    "\n",
    "# hardcoded values that are adjustable easily from here\n",
    "\n",
    "xinterval = np.array([20, 100])\n",
    "yinterval = np.array([20, 200])\n",
    "\n",
    "ycut = 60 # horizontal quadrant cut\n",
    "xcut = 75 # vertical quadrant cut\n",
    "\n",
    "events = 10000 # number of events to generate\n",
    "\n",
    "r = 0.2 # target correlation strength\n",
    "\n",
    "#initialize variables we'll need later\n",
    "\n",
    "acount = 0 # events in signal sector\n",
    "bcount = 0 # events in background 1\n",
    "ccount = 0 # events in background 2\n",
    "dcount = 0 # events in background 3"
   ]
  },
  {
   "cell_type": "markdown",
   "metadata": {},
   "source": [
    "The following code block defines the various correlation functions that we can use, to be called later depending on if they're needed."
   ]
  },
  {
   "cell_type": "code",
   "execution_count": 189,
   "metadata": {},
   "outputs": [],
   "source": [
    "def linear(x,y)\n",
    "    "
   ]
  },
  {
   "cell_type": "markdown",
   "metadata": {},
   "source": [
    "Execute the following code block to actually generate data, count events in each quadrant, and perform the ABCD analysis. Notice that this code block resets itself each time, so it can be run repeatedly."
   ]
  },
  {
   "cell_type": "markdown",
   "metadata": {},
   "source": [
    "The following code blocks are an experimental alternate way to achieve the same thing using a primitive evolutionary algorithm."
   ]
  },
  {
   "cell_type": "code",
   "execution_count": null,
   "metadata": {},
   "outputs": [],
   "source": []
  }
 ],
 "metadata": {
  "kernelspec": {
   "display_name": "Python 3",
   "language": "python",
   "name": "python3"
  },
  "language_info": {
   "codemirror_mode": {
    "name": "ipython",
    "version": 3
   },
   "file_extension": ".py",
   "mimetype": "text/x-python",
   "name": "python",
   "nbconvert_exporter": "python",
   "pygments_lexer": "ipython3",
   "version": "3.7.7"
  }
 },
 "nbformat": 4,
 "nbformat_minor": 4
}
