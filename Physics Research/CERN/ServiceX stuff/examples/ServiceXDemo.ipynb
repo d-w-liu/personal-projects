{
 "cells": [
  {
   "cell_type": "markdown",
   "metadata": {},
   "source": [
    "# ServiceX Example"
   ]
  },
  {
   "cell_type": "code",
   "execution_count": null,
   "metadata": {},
   "outputs": [],
   "source": [
    "import requests\n",
    "from minio import Minio\n",
    "import tempfile\n",
    "import pyarrow.parquet as pq\n",
    "\n"
   ]
  },
  {
   "cell_type": "markdown",
   "metadata": {},
   "source": [
    "## Submit the Transform Request\n",
    "We will create a REST request that specifies a DID along with a list of columns we want extracted.\n",
    "\n",
    "We also tell ServiceX that we want the resulting columns to be stored as parquet files in the object store"
   ]
  },
  {
   "cell_type": "code",
   "execution_count": null,
   "metadata": {},
   "outputs": [],
   "source": [
    "    servicex_endpoint = \"http://localhost:5000/servicex\"\n",
    "    response = requests.post(servicex_endpoint+\"/transformation\", json={\n",
    "        \"did\": \"mc15_13TeV:mc15_13TeV.361106.PowhegPythia8EvtGen_AZNLOCTEQ6L1_Zee.merge.DAOD_STDM3.e3601_s2576_s2132_r6630_r6264_p2363_tid05630052_00\",\n",
    "        \"columns\": \"Electrons.pt(), Electrons.eta(), Electrons.phi(), Electrons.e(), Muons.pt(), Muons.eta(), Muons.phi(), Muons.e()\",\n",
    "        \"image\": \"sslhep/servicex_func_adl_xaod_transformr:v0.4\",\n",
    "        \"result-destination\": \"object-store\",\n",
    "        \"result-format\": \"parquet\",\n",
    "        \"chunk-size\": 7000,\n",
    "        \"workers\": 1\n",
    "    })\n",
    "\n",
    "    print(response.json())\n",
    "    request_id = response.json()[\"request_id\"]\n",
    "    status_endpoint = servicex_endpoint+\"/transformation/{}/status\".format(request_id)\n"
   ]
  },
  {
   "cell_type": "markdown",
   "metadata": {},
   "source": [
    "## Wait for the Transform to Complete"
   ]
  },
  {
   "cell_type": "code",
   "execution_count": null,
   "metadata": {},
   "outputs": [],
   "source": [
    "status = requests.get(status_endpoint).json()\n",
    "print(\"We have processed {} files there are {} remaining\".format(status['files-processed'], status['files-remaining']))"
   ]
  },
  {
   "cell_type": "code",
   "execution_count": null,
   "metadata": {},
   "outputs": [],
   "source": [
    "minio_endpoint = \"localhost:9000\"\n",
    "minio_client = Minio(minio_endpoint,\n",
    "                 access_key='miniouser',\n",
    "                 secret_key='leftfoot1',\n",
    "                 secure=False)\n",
    "objects = minio_client.list_objects(request_id)\n",
    "sample_file = list([file.object_name for file in objects])[0]\n",
    "print(sample_file)"
   ]
  },
  {
   "cell_type": "code",
   "execution_count": null,
   "metadata": {},
   "outputs": [],
   "source": [
    "from IPython.display import display, HTML\n",
    "\n",
    "with tempfile.TemporaryDirectory() as tmpdirname:\n",
    "    minio_client.fget_object(request_id,\n",
    "                             sample_file,\n",
    "                             sample_file)\n",
    "    pa_table = pq.read_table(sample_file)\n",
    "\n",
    "    display(pa_table.to_pandas())\n",
    "    "
   ]
  },
  {
   "cell_type": "code",
   "execution_count": null,
   "metadata": {},
   "outputs": [],
   "source": []
  }
 ],
 "metadata": {
  "celltoolbar": "Raw Cell Format",
  "kernelspec": {
   "display_name": "Python 3",
   "language": "python",
   "name": "python3"
  },
  "language_info": {
   "codemirror_mode": {
    "name": "ipython",
    "version": 3
   },
   "file_extension": ".py",
   "mimetype": "text/x-python",
   "name": "python",
   "nbconvert_exporter": "python",
   "pygments_lexer": "ipython3",
   "version": "3.7.7"
  }
 },
 "nbformat": 4,
 "nbformat_minor": 4
}
