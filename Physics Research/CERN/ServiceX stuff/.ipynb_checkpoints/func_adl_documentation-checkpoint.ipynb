{
 "cells": [
  {
   "cell_type": "markdown",
   "metadata": {},
   "source": [
    "# Documentation for func_adl\n",
    "\n",
    "func_adl is an SQL-like language used to construct hierarchical data queries for `servicex`. func_adl is written to work with both `servicex` service modes, and requires either `func_adl_xAOD` or `func_adl_uproot` for full functionality."
   ]
  },
  {
   "cell_type": "markdown",
   "metadata": {},
   "source": [
    "### Example of a func_adl_xAOD query\n",
    "\n",
    "```\n",
    "    data = ServiceXDatasetSource(dataset) \\\n",
    "    .Select('lambda e: (e.Electrons(\"Electrons\"), e.Muons(\"Muons\"))') \\\n",
    "    .Select('lambda ls: (ls[0].Select(lambda e: e.pt()), ls[0].Select(lambda e: e.eta()), \\\n",
    "                         ls[0].Select(lambda e: e.phi()), ls[0].Select(lambda e: e.e()), \\\n",
    "                         ls[1].Select(lambda m: m.pt()), ls[1].Select(lambda m: m.eta()), \\\n",
    "                         ls[1].Select(lambda m: m.phi()), ls[1].Select(lambda m: m.e()))') \\\n",
    "    .AsAwkwardArray(('ElePt', 'EleEta', 'ElePhi', 'EleE', 'MuPt', 'MuEta', 'MuPhi', 'MuE')) \\\n",
    "    .value()\n",
    "```\n",
    "\n",
    "This is an example of a request submitted to ServiceX using func_adl_xAOD. The request can be broken into several parts:\n",
    "\n",
    "The top line, `data = ServiceXDatasetSource(dataset)` specifies which dataset the program should look for. The `dataset` argument is the scope and name of the dataset that the user is specifically looking for.\n",
    "\n",
    "The following lines are each func_adl transformations on the dataset. func_adl functions by examining lists and transforming them into different types of lists. Top level commands operate directly on lists of events, while nested commands can operate on objects inside those lists. Notice that in each case, the command must be submitted with a lambda command telling it specifically where to look. For instance, in this case, the command:\n",
    "\n",
    "`.Select('lambda ls:...` selects a list of all events with lepton information, where each entry in the list is a list containing the lepton information. From there, the nested commands `ls[0].Select(lambda...` operate on the nested lists, and select specific attributes about the leptons."
   ]
  },
  {
   "cell_type": "markdown",
   "metadata": {},
   "source": [
    "### Commands in a func_adl_xAOD query:\n",
    "\n",
    "There are a variety of useful operators that can be submitted in a func_adl query. Here, they are listed and explained:\n",
    "\n",
    "`.SelectMany(...)`\n",
    "This command works to shift the hierarchy up. When called, it pulls the nested lists within a list of list up one level and arranges them horizontally. For example, the command `.SelectMany('lambda e: (e.Jets(\"AntiKt4EMTopoJets\"))')`. This command acts on a list of events containing jets (that is, a list of lists - each event is a list of jets), and pulls the jets up one level, so that you are left with a list of jets.\n",
    "\n",
    "`.Select(...)`\n",
    "This command transforms the list you are working with, allowing you to select only objects in the list that possess the desired attributes.\n",
    "\n",
    "`.Where(...)`\n",
    "This command is an argument that typically is used wtih a `.Select` command, allowing you to specify which attributes you want a `.Select` command to look for.\n",
    "\n",
    "`.Count(...)`\n",
    "This command simply counts how many instances of the argument appear in the selected list. For instance, the command `.Where(lambda jpt: jpt>10.0).Count()` tells the program to count the number of jets in the selection with a transverse momentum greater than 10.0.\n",
    "\n",
    "`.AsAwkwardArray(...)`\n",
    "`.AsPandasDF(...)`\n",
    "These commands specifies how the query should return the selection. Currently, the xAOD backend can return selections as either awkward arrays or pandas dataframes.\n",
    "\n",
    "`.value()`\n",
    "This command actually executes the command for the query to return the selection."
   ]
  },
  {
   "cell_type": "code",
   "execution_count": null,
   "metadata": {},
   "outputs": [],
   "source": []
  }
 ],
 "metadata": {
  "kernelspec": {
   "display_name": "Python 3",
   "language": "python",
   "name": "python3"
  },
  "language_info": {
   "codemirror_mode": {
    "name": "ipython",
    "version": 3
   },
   "file_extension": ".py",
   "mimetype": "text/x-python",
   "name": "python",
   "nbconvert_exporter": "python",
   "pygments_lexer": "ipython3",
   "version": "3.7.7"
  }
 },
 "nbformat": 4,
 "nbformat_minor": 4
}
