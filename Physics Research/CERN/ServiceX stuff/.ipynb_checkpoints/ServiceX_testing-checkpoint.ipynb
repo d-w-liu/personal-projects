{
 "cells": [
  {
   "cell_type": "code",
   "execution_count": 1,
   "metadata": {},
   "outputs": [
    {
     "name": "stdout",
     "output_type": "stream",
     "text": [
      "All modules imported.\n"
     ]
    }
   ],
   "source": [
    "from config import running_backend, default_container  # noqa\n",
    "from servicex_test_utils import wait_for_request_done, get_servicex_request_data\n",
    "import requests\n",
    "from servicex import ServiceXDataset\n",
    "from servicex.minio_adaptor import MinioAdaptor\n",
    "from servicex.servicex_adaptor import ServiceXAdaptor\n",
    "import servicex\n",
    "from func_adl_xAOD import ServiceXDatasetSource\n",
    "import uproot_methods\n",
    "from numpy import genfromtxt\n",
    "import numpy as np\n",
    "\n",
    "print(\"All modules imported.\")"
   ]
  },
  {
   "cell_type": "code",
   "execution_count": 14,
   "metadata": {},
   "outputs": [],
   "source": [
    "# This can take a very long time - 15-30 minutes depending on the quality of your connection.\n",
    "# If it is taking too long, most likely the problem is is the downloading - so look at the log\n",
    "# from the rucio downloader to track progress (yes, an obvious feature request).\n",
    "def test_func_adl_query_simple_jets(running_backend):\n",
    "    query = \"(call ResultTTree (call Select (call SelectMany (call EventDataset (list 'localds:bogus')) (lambda (list e) (call (attr e 'Jets') 'AntiKt4EMTopoJets'))) (lambda (list j) (/ (call (attr j 'pt')) 1000.0))) (list 'JetPt') 'analysis' 'junk.root')\"\n",
    "    dataset = \"mc15_13TeV:mc15_13TeV.361106.PowhegPythia8EvtGen_AZNLOCTEQ6L1_Zee.merge.DAOD_STDM3.e3601_s2576_s2132_r6630_r6264_p2363_tid05630052_00\"\n",
    "    r = servicex.get_data(query , dataset, running_backend)\n",
    "    print(len(r.index))\n",
    "    return r"
   ]
  },
  {
   "cell_type": "code",
   "execution_count": 15,
   "metadata": {},
   "outputs": [
    {
     "name": "stdout",
     "output_type": "stream",
     "text": [
      "11355980\n"
     ]
    }
   ],
   "source": [
    "array = test_func_adl_query_simple_jets(\"http://localhost:5000/servicex\")"
   ]
  },
  {
   "cell_type": "code",
   "execution_count": 16,
   "metadata": {},
   "outputs": [
    {
     "name": "stdout",
     "output_type": "stream",
     "text": [
      "11355980\n"
     ]
    }
   ],
   "source": [
    "print(len(array.index))"
   ]
  },
  {
   "cell_type": "code",
   "execution_count": 23,
   "metadata": {},
   "outputs": [],
   "source": [
    "def test_func_adl_query_electrons_and_muons (running_backend):\n",
    "    query = \"(call ResultTTree (call Select (call Select (call EventDataset (list 'localds:bogus')) (lambda (list e) (list (call (attr e 'Electrons') 'Electrons') (call (attr e 'Muons') 'Muons')))) (lambda (list e) (list (call (attr (subscript e 0) 'Select') (lambda (list ele) (call (attr ele 'e')))) (call (attr (subscript e 0) 'Select') (lambda (list ele) (call (attr ele 'pt')))) (call (attr (subscript e 0) 'Select') (lambda (list ele) (call (attr ele 'phi')))) (call (attr (subscript e 0) 'Select') (lambda (list ele) (call (attr ele 'eta')))) (call (attr (subscript e 1) 'Select') (lambda (list mu) (call (attr mu 'e')))) (call (attr (subscript e 1) 'Select') (lambda (list mu) (call (attr mu 'pt')))) (call (attr (subscript e 1) 'Select') (lambda (list mu) (call (attr mu 'phi')))) (call (attr (subscript e 1) 'Select') (lambda (list mu) (call (attr mu 'eta'))))))) (list 'e_E' 'e_pt' 'e_phi' 'e_eta' 'mu_E' 'mu_pt' 'mu_phi' 'mu_eta') 'forkme' 'dude.root')\"\n",
    "    dataset = \"mc15_13TeV:mc15_13TeV.361106.PowhegPythia8EvtGen_AZNLOCTEQ6L1_Zee.merge.DAOD_STDM3.e3601_s2576_s2132_r6630_r6264_p2363_tid05630052_00\",\n",
    "    r = servicex.get_data(query, dataset, data_type = \"awkward\", servicex_endpoint = running_backend)\n",
    "    return r"
   ]
  },
  {
   "cell_type": "code",
   "execution_count": 24,
   "metadata": {},
   "outputs": [],
   "source": [
    "emu = test_func_adl_query_electrons_and_muons(\"http://localhost:5000/servicex\")"
   ]
  },
  {
   "cell_type": "code",
   "execution_count": 25,
   "metadata": {},
   "outputs": [
    {
     "name": "stdout",
     "output_type": "stream",
     "text": [
      "{b'e_E': <JaggedArray [[11678.290453057432] [124352.58759560794 5018.021807808239 28260.79313076634 4866.388771162408] [] ... [167994.90017338746 25607.67724485566 25950.88956615245 ... 16041.8821671694 6253.206926476292 16910.816994632994] [45230.94004367999 41885.42415619056 8183.519427098758] [101387.70455256793 127098.75170143174 3860.0051272222413 18531.43010673125]] at 0x01709519bc08>, b'e_pt': <JaggedArray [[5794.58154296875] [36922.66796875 4514.7587890625 4671.44482421875 3811.003662109375] [] ... [36469.15625 25503.25 13456.806640625 ... 4272.71728515625 4177.89990234375 3152.95556640625] [43632.55859375 39205.66796875 3786.251953125] [39072.98828125 43704.296875 3854.654541015625 3911.02734375]] at 0x01709519b848>, b'e_phi': <JaggedArray [[-0.7931161522865295] [2.266842842102051 0.4230227470397949 -0.7722882032394409 3.0246007442474365] [] ... [-2.1718931198120117 -2.48415470123291 2.543349504470825 ... -0.42512843012809753 0.5396857857704163 0.6070034503936768] [-2.516613483428955 0.4820100665092468 2.3127856254577637] [0.4636102020740509 -2.5574259757995605 1.4891444444656372 2.692172050476074]] at 0x01709519b148>, b'e_eta': <JaggedArray [[-1.3257930278778076] [-1.8846356868743896 0.4678869843482971 -2.4862523078918457 -0.7280337810516357] [] ... [-2.208618640899658 0.09046405553817749 -1.274631381034851 ... -1.9978735446929932 -0.9594971537590027 -2.3639543056488037] [-0.2698565125465393 0.3676587641239166 1.40548574924469] [-1.6072806119918823 -1.7297009229660034 0.05268310382962227 -2.2374892234802246]] at 0x01709519b888>, b'mu_E': <JaggedArray [[12508.887514928687] [68003.72402027207 132394.34870029808] [] ... [11975.218919701007] [] [7296.177771002047]] at 0x01709519b748>, b'mu_pt': <JaggedArray [[6687.41845703125] [48828.21875 22644.7578125] [] ... [3822.9697265625] [] [2353.66845703125]] at 0x01709519bac8>, b'mu_phi': <JaggedArray [[2.9998934268951416] [1.9398573637008667 -1.791720986366272] [] ... [-1.4869402647018433] [] [1.2357184886932373]] at 0x01709519b448>, b'mu_eta': <JaggedArray [[-1.2387009859085083] [-0.8595364689826965 -2.451608180999756] [] ... [1.8084065914154053] [] [1.797317624092102]] at 0x0170948b04c8>}\n"
     ]
    }
   ],
   "source": [
    "print(emu)"
   ]
  },
  {
   "cell_type": "code",
   "execution_count": 5,
   "metadata": {},
   "outputs": [
    {
     "name": "stdout",
     "output_type": "stream",
     "text": [
      "Large jet tests defined.\n"
     ]
    }
   ],
   "source": [
    "def test_func_adl_query_simple_jets_large_sample(running_backend):\n",
    "    'Do not run this unless you have a large well connected system at your beck and call!!'\n",
    "\n",
    "    query = \"(call ResultTTree (call Select (call SelectMany (call EventDataset (list 'localds:bogus')) (lambda (list e) (call (attr e 'Jets') 'AntiKt4EMTopoJets'))) (lambda (list j) (/ (call (attr j 'pt')) 1000.0))) (list 'JetPt') 'analysis' 'junk.root')\"\n",
    "    dataset = \"data17_13TeV:data17_13TeV.periodK.physics_Main.PhysCont.DAOD_STDM7.grp22_v01_p3713\"\n",
    "    r = servicex.get_data(query, dataset, servicex_endpoint = running_backend)\n",
    "    print(r)\n",
    "\n",
    "print(\"Large jet tests defined.\")"
   ]
  },
  {
   "cell_type": "code",
   "execution_count": null,
   "metadata": {},
   "outputs": [],
   "source": [
    "test_func_adl_query_simple_jets_large_sample(\"http://localhost:5000/servicex\")"
   ]
  },
  {
   "cell_type": "code",
   "execution_count": 2,
   "metadata": {},
   "outputs": [],
   "source": [
    "def test_servicex_stress_capacity():\n",
    "    dataset = ServiceXDataset('data17_13TeV.periodK.physics_Main.PhysCont.DAOD_STDM7.grp23_v01_p4030', max_workers = 100)\n",
    "    query = ServiceXDatasetSource(dataset) \\\n",
    "        .SelectMany('lambda e: (e.Jets(\"AntiKt4EMTopoJets\"))') \\\n",
    "        .Where('lambda j: (j.pt()/1000)>30') \\\n",
    "        .Select('lambda j: (j.pt())') \\\n",
    "        .AsPandasDF(\"JetPt\") \\\n",
    "        .value()\n",
    "    \n",
    "    return query"
   ]
  },
  {
   "cell_type": "code",
   "execution_count": null,
   "metadata": {},
   "outputs": [
    {
     "data": {
      "application/vnd.jupyter.widget-view+json": {
       "model_id": "b65bd81ab2094ab088058bd7760e7826",
       "version_major": 2,
       "version_minor": 0
      },
      "text/plain": [
       "HBox(children=(FloatProgress(value=0.0, description='data17_13TeV:data17_13TeV.periodK.physics_Main.PhysCont.D…"
      ]
     },
     "metadata": {},
     "output_type": "display_data"
    },
    {
     "data": {
      "application/vnd.jupyter.widget-view+json": {
       "model_id": "22bf172a36ea4323ae19955ac7c9dbfe",
       "version_major": 2,
       "version_minor": 0
      },
      "text/plain": [
       "HBox(children=(FloatProgress(value=0.0, description='        Downloaded', layout=Layout(flex='2'), max=9000000…"
      ]
     },
     "metadata": {},
     "output_type": "display_data"
    }
   ],
   "source": [
    "stress_test = test_servicex_stress_capacity()"
   ]
  },
  {
   "cell_type": "code",
   "execution_count": 24,
   "metadata": {},
   "outputs": [],
   "source": [
    "def test_func_adl_simple_jet_pts():\n",
    "    dataset = ServiceXDataset(\"mc15_13TeV:mc15_13TeV.361106.PowhegPythia8EvtGen_AZNLOCTEQ6L1_Zee.merge.DAOD_STDM3.e3601_s2576_s2132_r6630_r6264_p2363_tid05630052_00\")\n",
    "    query = ServiceXDatasetSource(dataset) \\\n",
    "        .SelectMany('lambda e: (e.Jets(\"AntiKt4EMTopoJets\"))') \\\n",
    "        .Where('lambda j: (j.pt()/1000)>30') \\\n",
    "        .Select('lambda j: (j.pt())') \\\n",
    "        .AsPandasDF(\"JetPt\") \\\n",
    "        .value()\n",
    "    \n",
    "    return query"
   ]
  },
  {
   "cell_type": "code",
   "execution_count": 25,
   "metadata": {},
   "outputs": [
    {
     "data": {
      "application/vnd.jupyter.widget-view+json": {
       "model_id": "b64063d40af145a0b7803459a3dc7fd1",
       "version_major": 2,
       "version_minor": 0
      },
      "text/plain": [
       "HBox(children=(FloatProgress(value=0.0, description='mc15_13TeV:mc15_13TeV.361106.PowhegPythia8EvtGen_AZNLOCTE…"
      ]
     },
     "metadata": {},
     "output_type": "display_data"
    },
    {
     "data": {
      "application/vnd.jupyter.widget-view+json": {
       "model_id": "bf39a554548d4459809e48af1a5f8d61",
       "version_major": 2,
       "version_minor": 0
      },
      "text/plain": [
       "HBox(children=(FloatProgress(value=0.0, description='        Downloaded', layout=Layout(flex='2'), max=9000000…"
      ]
     },
     "metadata": {},
     "output_type": "display_data"
    }
   ],
   "source": [
    "jet_test = test_func_adl_simple_jet_pts()"
   ]
  },
  {
   "cell_type": "code",
   "execution_count": null,
   "metadata": {},
   "outputs": [],
   "source": []
  }
 ],
 "metadata": {
  "kernelspec": {
   "display_name": "Python 3",
   "language": "python",
   "name": "python3"
  },
  "language_info": {
   "codemirror_mode": {
    "name": "ipython",
    "version": 3
   },
   "file_extension": ".py",
   "mimetype": "text/x-python",
   "name": "python",
   "nbconvert_exporter": "python",
   "pygments_lexer": "ipython3",
   "version": "3.7.7"
  }
 },
 "nbformat": 4,
 "nbformat_minor": 4
}
